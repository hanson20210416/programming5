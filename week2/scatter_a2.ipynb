{
 "cells": [
  {
   "cell_type": "code",
   "execution_count": 2,
   "metadata": {},
   "outputs": [
    {
     "name": "stderr",
     "output_type": "stream",
     "text": [
      "usage: ipykernel_launcher.py [-h] -a A -b B [-n N]\n",
      "ipykernel_launcher.py: error: the following arguments are required: -a, -b\n"
     ]
    },
    {
     "ename": "SystemExit",
     "evalue": "2",
     "output_type": "error",
     "traceback": [
      "An exception has occurred, use %tb to see the full traceback.\n",
      "\u001b[0;31mSystemExit\u001b[0m\u001b[0;31m:\u001b[0m 2\n"
     ]
    },
    {
     "name": "stderr",
     "output_type": "stream",
     "text": [
      "/homes/zhe/Desktop/programming/p5/.venv/lib/python3.11/site-packages/IPython/core/interactiveshell.py:3585: UserWarning: To exit: use 'exit', 'quit', or Ctrl-D.\n",
      "  warn(\"To exit: use 'exit', 'quit', or Ctrl-D.\", stacklevel=1)\n"
     ]
    }
   ],
   "source": [
    "import argparse\n",
    "import math\n",
    "from mpi4py import MPI\n",
    "\n",
    "def cos_function(x):\n",
    "    \"\"\"Returns the cosine of x.\"\"\"\n",
    "    return math.cos(x)\n",
    "\n",
    "def trapezoid_rule(func, lower_bound, upper_bound, *, num_subdivisions=256):\n",
    "    \"\"\"Calculate the integral using the trapezoidal rule.\n",
    "    \n",
    "    Args:\n",
    "        func: The function to integrate.\n",
    "        lower_bound: The lower bound of integration.\n",
    "        upper_bound: The upper bound of integration.\n",
    "        num_subdivisions: The number of subdivisions (default 256).\n",
    "    \n",
    "    Returns:\n",
    "        The approximate integral.\n",
    "    \"\"\"\n",
    "    step_size = (upper_bound - lower_bound) / num_subdivisions\n",
    "    integral = (func(lower_bound) + func(upper_bound)) * step_size / 2\n",
    "    for i in range(1, num_subdivisions):\n",
    "        x_i = lower_bound + step_size * i\n",
    "        integral += func(x_i)\n",
    "    return integral\n",
    "\n",
    "def distribute_bounds(lower_bound, upper_bound, num_processes):\n",
    "    \"\"\"Distribute the integration bounds across processes.\"\"\"\n",
    "    chunk_size = (upper_bound - lower_bound) / num_processes\n",
    "    bounds = [(lower_bound + i * chunk_size, lower_bound + (i + 1) * chunk_size) for i in range(num_processes)]\n",
    "    return bounds\n",
    "\n",
    "def main():\n",
    "    \"\"\"Main function to handle the distributed numerical integration.\"\"\"\n",
    "    comm = MPI.COMM_WORLD\n",
    "    rank = comm.Get_rank()\n",
    "    size = comm.Get_size()\n",
    "    \n",
    "    # Define integration parameters in rank 0\n",
    "    if rank == 0:\n",
    "        parser = argparse.ArgumentParser(description='Numerical integral using the trapezoid rule')\n",
    "        parser.add_argument(\"-a\", help=\"The lower bound of the definite integral\", type=float, required=True)\n",
    "        parser.add_argument(\"-b\", help=\"The upper bound of the definite integral\", type=float, required=True)\n",
    "        parser.add_argument(\"-n\", help=\"The number of steps for the numerical approximation\", type=int, default=256)\n",
    "        args = parser.parse_args()\n",
    "        \n",
    "        lower_bound = args.a\n",
    "        upper_bound = args.b\n",
    "        num_steps = args.n\n",
    "        \n",
    "        # Divide the bounds across processes\n",
    "        bounds = distribute_bounds(lower_bound, upper_bound, size)\n",
    "        local_num_steps = num_steps // size  # Approximate step count per process\n",
    "    else:\n",
    "        bounds = None\n",
    "        local_num_steps = None\n",
    "\n",
    "    # Scatter bounds and local step count to each process\n",
    "    local_bound = comm.scatter(bounds, root=0)\n",
    "    local_num_steps = comm.bcast(local_num_steps, root=0)\n",
    "    \n",
    "    # Calculate the local integral for the assigned bounds\n",
    "    local_lower_bound, local_upper_bound = local_bound\n",
    "    local_integral = trapezoid_rule(cos_function, local_lower_bound, local_upper_bound, num_subdivisions=local_num_steps)\n",
    "\n",
    "    # Gather all local integrals to rank 0\n",
    "    all_integrals = comm.gather(local_integral, root=0)\n",
    "    \n",
    "    if rank == 0:\n",
    "        # Sum the local integrals to get the total integral\n",
    "        total_integral = sum(all_integrals) * ((upper_bound - lower_bound) / num_steps)\n",
    "        print(f\"Approximate integral of cos(x) from {lower_bound} to {upper_bound} with {num_steps} steps: {total_integral}\")\n",
    "\n",
    "if __name__ == '__main__':\n",
    "    main()"
   ]
  }
 ],
 "metadata": {
  "kernelspec": {
   "display_name": ".venv",
   "language": "python",
   "name": "python3"
  },
  "language_info": {
   "codemirror_mode": {
    "name": "ipython",
    "version": 3
   },
   "file_extension": ".py",
   "mimetype": "text/x-python",
   "name": "python",
   "nbconvert_exporter": "python",
   "pygments_lexer": "ipython3",
   "version": "3.11.2"
  }
 },
 "nbformat": 4,
 "nbformat_minor": 2
}
